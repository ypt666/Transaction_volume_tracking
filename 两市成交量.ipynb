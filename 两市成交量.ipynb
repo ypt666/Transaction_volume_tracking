{
 "cells": [
  {
   "cell_type": "code",
   "execution_count": 1,
   "id": "ee9da7f1",
   "metadata": {
    "ExecuteTime": {
     "end_time": "2023-10-04T13:13:34.697228Z",
     "start_time": "2023-10-04T13:13:33.094753Z"
    }
   },
   "outputs": [],
   "source": [
    "import tushare as ts\n",
    "import yfinance as yf\n",
    "import baostock as bs"
   ]
  },
  {
   "cell_type": "code",
   "execution_count": 3,
   "id": "4bfbd303",
   "metadata": {
    "ExecuteTime": {
     "end_time": "2023-10-04T13:24:50.144324Z",
     "start_time": "2023-10-04T13:24:49.438228Z"
    },
    "collapsed": true
   },
   "outputs": [
    {
     "name": "stdout",
     "output_type": "stream",
     "text": [
      "2023-10-04 21:24:50,057 - yfinance - ERROR - 600011: No timezone found, symbol may be delisted\n"
     ]
    },
    {
     "data": {
      "image/png": "[encoded data removed]",
      "text/plain": [
       "<Figure size 432x288 with 1 Axes>"
      ]
     },
     "metadata": {
      "needs_background": "light"
     },
     "output_type": "display_data"
    }
   ],
   "source": [
    "import yfinance as yf\n",
    "import pandas as pd\n",
    "import matplotlib.pyplot as plt\n",
    "\n",
    "symbol = 'AAPL'\n",
    "start_date = '2021-01-01'\n",
    "end_date = '2021-12-31'\n",
    "\n",
    "stock = yf.Ticker(symbol)\n",
    "data = stock.history(start=start_date, end=end_date)\n",
    "\n",
    "plt.plot(data['Close'])\n",
    "plt.title('AAPL Stock Price')\n",
    "plt.xlabel('Date')\n",
    "plt.ylabel('Price')\n",
    "plt.show()"
   ]
  },
  {
   "cell_type": "code",
   "execution_count": 4,
   "id": "6a037481",
   "metadata": {
    "ExecuteTime": {
     "end_time": "2023-10-04T13:26:02.863302Z",
     "start_time": "2023-10-04T13:26:02.679562Z"
    },
    "collapsed": true
   },
   "outputs": [
    {
     "name": "stdout",
     "output_type": "stream",
     "text": [
      "login success!\n",
      "login respond error_code:0\n",
      "login respond  error_msg:success\n",
      "query_history_k_data_plus respond error_code:0\n",
      "query_history_k_data_plus respond  error_msg:success\n",
      "           date       code     open     high      low    close preclose  \\\n",
      "0    2017-07-03  sh.600000  12.6400  12.6500  12.4700  12.5600  12.6500   \n",
      "1    2017-07-04  sh.600000  12.5500  12.5800  12.4100  12.5500  12.5600   \n",
      "2    2017-07-05  sh.600000  12.5000  12.6500  12.4700  12.6200  12.5500   \n",
      "3    2017-07-06  sh.600000  12.6200  12.7200  12.5100  12.6600  12.6200   \n",
      "4    2017-07-07  sh.600000  12.6200  12.6900  12.5500  12.6000  12.6600   \n",
      "..          ...        ...      ...      ...      ...      ...      ...   \n",
      "120  2017-12-25  sh.600000  12.6100  12.6800  12.5600  12.5900  12.6200   \n",
      "121  2017-12-26  sh.600000  12.5700  12.6600  12.5600  12.6400  12.5900   \n",
      "122  2017-12-27  sh.600000  12.6500  12.6600  12.5300  12.6200  12.6400   \n",
      "123  2017-12-28  sh.600000  12.6000  12.6600  12.5300  12.5400  12.6200   \n",
      "124  2017-12-29  sh.600000  12.5200  12.6200  12.5100  12.5900  12.5400   \n",
      "\n",
      "       volume          amount adjustflag      turn tradestatus     pctChg isST  \n",
      "0    38778949  486264672.0000          3  0.137985           1  -0.711456    0  \n",
      "1    36659128  458434432.0000          3  0.130442           1  -0.079620    0  \n",
      "2    26470507  332542464.0000          3  0.094188           1   0.557767    0  \n",
      "3    37414241  471582096.0000          3  0.133129           1   0.316957    0  \n",
      "4    24667294  311101536.0000          3  0.087772           1  -0.473929    0  \n",
      "..        ...             ...        ...       ...         ...        ...  ...  \n",
      "120  19306662  243553698.0000          3  0.068698           1  -0.237716    0  \n",
      "121  15225722  192219131.0000          3  0.054177           1   0.397142    0  \n",
      "122  32731881  412197987.0000          3  0.116468           1  -0.158231    0  \n",
      "123  23870824  300834017.0000          3  0.084938           1  -0.633914    0  \n",
      "124  16351826  205752875.0000          3  0.058184           1   0.398726    0  \n",
      "\n",
      "[125 rows x 14 columns]\n",
      "logout success!\n"
     ]
    },
    {
     "data": {
      "text/plain": [
       "<baostock.data.resultset.ResultData at 0x15d25f39520>"
      ]
     },
     "execution_count": 4,
     "metadata": {},
     "output_type": "execute_result"
    }
   ],
   "source": [
    "import baostock as bs\n",
    "import pandas as pd\n",
    "\n",
    "#### 登陆系统 ####\n",
    "lg = bs.login()\n",
    "# 显示登陆返回信息\n",
    "print('login respond error_code:'+lg.error_code)\n",
    "print('login respond  error_msg:'+lg.error_msg)\n",
    "\n",
    "#### 获取沪深A股历史K线数据 ####\n",
    "# 详细指标参数，参见“历史行情指标参数”章节；“分钟线”参数与“日线”参数不同。“分钟线”不包含指数。\n",
    "# 分钟线指标：date,time,code,open,high,low,close,volume,amount,adjustflag\n",
    "# 周月线指标：date,code,open,high,low,close,volume,amount,adjustflag,turn,pctChg\n",
    "rs = bs.query_history_k_data_plus(\"sh.600000\",\n",
    "    \"date,code,open,high,low,close,preclose,volume,amount,adjustflag,turn,tradestatus,pctChg,isST\",\n",
    "    start_date='2017-07-01', end_date='2017-12-31',\n",
    "    frequency=\"d\", adjustflag=\"3\")\n",
    "print('query_history_k_data_plus respond error_code:'+rs.error_code)\n",
    "print('query_history_k_data_plus respond  error_msg:'+rs.error_msg)\n",
    "\n",
    "#### 打印结果集 ####\n",
    "data_list = []\n",
    "while (rs.error_code == '0') & rs.next():\n",
    "    # 获取一条记录，将记录合并在一起\n",
    "    data_list.append(rs.get_row_data())\n",
    "result = pd.DataFrame(data_list, columns=rs.fields)\n",
    "\n",
    "\n",
    "\n",
    "\n",
    "#### 结果集输出到csv文件 ####   \n",
    "#result.to_csv(\"D:\\\\history_A_stock_k_data.csv\", index=False)\n",
    "print(result)\n",
    "\n",
    "#### 登出系统 ####\n",
    "bs.logout()"
   ]
  },
  {
   "cell_type": "code",
   "execution_count": 6,
   "id": "d0e72948",
   "metadata": {
    "ExecuteTime": {
     "end_time": "2023-10-04T13:31:31.277312Z",
     "start_time": "2023-10-04T13:31:30.221494Z"
    },
    "collapsed": true
   },
   "outputs": [
    {
     "name": "stdout",
     "output_type": "stream",
     "text": [
      "login success!\n",
      "login respond error_code:0\n",
      "login respond  error_msg:success\n",
      "query_history_k_data_plus respond error_code:0\n",
      "query_history_k_data_plus respond  error_msg:success\n",
      "           date       code       open       high        low      close  \\\n",
      "0    2023-01-03  sh.000001  3087.5130  3119.8556  3073.0540  3116.5119   \n",
      "1    2023-01-04  sh.000001  3117.5711  3129.0937  3109.4512  3123.5164   \n",
      "2    2023-01-05  sh.000001  3132.7614  3159.4270  3130.2300  3155.2162   \n",
      "3    2023-01-06  sh.000001  3155.0747  3170.7418  3151.8407  3157.6365   \n",
      "4    2023-01-09  sh.000001  3169.3737  3183.5830  3165.4282  3176.0845   \n",
      "..          ...        ...        ...        ...        ...        ...   \n",
      "177  2023-09-22  sh.000001  3084.7567  3132.5578  3078.8007  3132.4316   \n",
      "178  2023-09-25  sh.000001  3131.2079  3131.2079  3112.1505  3115.6071   \n",
      "179  2023-09-26  sh.000001  3114.0214  3120.2889  3102.2726  3102.2726   \n",
      "180  2023-09-27  sh.000001  3104.0395  3125.4470  3103.8441  3107.3156   \n",
      "181  2023-09-28  sh.000001  3117.7549  3121.8352  3105.9397  3110.4753   \n",
      "\n",
      "      preclose       volume             amount     pctChg  \n",
      "0    3089.2579  28137036200  331392138948.0000   0.882218  \n",
      "1    3116.5119  27331362600  316391228728.0000   0.224754  \n",
      "2    3123.5164  25700301800  335635934527.5000   1.014875  \n",
      "3    3155.2162  25738025500  338539843686.6000   0.076708  \n",
      "4    3157.6365  25811521800  342693770974.1000   0.584234  \n",
      "..         ...          ...                ...        ...  \n",
      "177  3084.7010  28597835100  321443778943.2000   1.547333  \n",
      "178  3132.4316  25807188500  294635829637.9000  -0.537107  \n",
      "179  3115.6071  22264431300  270006131018.9000  -0.427990  \n",
      "180  3102.2726  24049583000  293421022407.0000   0.162558  \n",
      "181  3107.3156  23632998100  288396222754.4000   0.101686  \n",
      "\n",
      "[182 rows x 10 columns]\n",
      "logout success!\n"
     ]
    },
    {
     "data": {
      "text/plain": [
       "<baostock.data.resultset.ResultData at 0x15d00ec0220>"
      ]
     },
     "execution_count": 6,
     "metadata": {},
     "output_type": "execute_result"
    }
   ],
   "source": [
    "import baostock as bs\n",
    "import pandas as pd\n",
    "\n",
    "#### 登陆系统 ####\n",
    "lg = bs.login()\n",
    "# 显示登陆返回信息\n",
    "print('login respond error_code:'+lg.error_code)\n",
    "print('login respond  error_msg:'+lg.error_msg)\n",
    "\n",
    "#### 获取数据 ####\n",
    "rs = bs.query_history_k_data_plus(\"sh.000001\",\n",
    "    \"date,code,open,high,low,close,preclose,volume,amount,pctChg\",\n",
    "    start_date='2023-01-01', end_date='2023-09-28', frequency=\"d\")\n",
    "print('query_history_k_data_plus respond error_code:'+rs.error_code)\n",
    "print('query_history_k_data_plus respond  error_msg:'+rs.error_msg)\n",
    "\n",
    "# 打印结果集\n",
    "data_list = []\n",
    "while (rs.error_code == '0') & rs.next():\n",
    "    # 获取一条记录，将记录合并在一起\n",
    "    data_list.append(rs.get_row_data())\n",
    "result = pd.DataFrame(data_list, columns=rs.fields)\n",
    "# 结果集输出到csv文件\n",
    "result.to_csv(\"sh.000001.csv\", index=False)\n",
    "print(result)\n",
    "\n",
    "# 登出系统\n",
    "bs.logout()\n"
   ]
  },
  {
   "cell_type": "code",
   "execution_count": 74,
   "id": "9eac04af",
   "metadata": {
    "ExecuteTime": {
     "end_time": "2023-10-04T14:31:47.490759Z",
     "start_time": "2023-10-04T14:31:47.140445Z"
    },
    "scrolled": true
   },
   "outputs": [
    {
     "name": "stdout",
     "output_type": "stream",
     "text": [
      "login success!\n",
      "logout success!\n"
     ]
    },
    {
     "data": {
      "image/png": "[encoded data removed]",
      "text/plain": [
       "<Figure size 432x288 with 1 Axes>"
      ]
     },
     "metadata": {
      "needs_background": "light"
     },
     "output_type": "display_data"
    }
   ],
   "source": [
    "import baostock as bs\n",
    "import pandas as pd\n",
    "import datetime\n",
    "\n",
    "def turnover(code_list):\n",
    "    dfs = {}  \n",
    "    #### 登陆系统 ####\n",
    "    lg = bs.login()\n",
    "    \n",
    "    for code in code_list:\n",
    "        rs = bs.query_history_k_data_plus(str(code),\n",
    "                                          \"date,code,volume,amount,pctChg\",\n",
    "                                          start_date = (datetime.date.today()- datetime.timedelta(days=60)).strftime(\"%Y-%m-%d\"), \n",
    "                                          end_date = datetime.date.today().strftime(\"%Y-%m-%d\"), \n",
    "                                          frequency=\"d\")\n",
    "        data_list = []\n",
    "        while (rs.error_code == '0') & rs.next():\n",
    "            data_list.append(rs.get_row_data())\n",
    "        result = pd.DataFrame(data_list, columns=rs.fields)\n",
    "        dfs[f'df_{code}'] = result\n",
    "        \n",
    "    df = pd.merge(list(dfs.items())[0][1], list(dfs.items())[1][1], on='date')\n",
    "    df['volume'] = df['volume_x'].astype(float)  + df['volume_y'].astype(float) \n",
    "    df['amount'] = df['amount_x'].astype(float)  + df['amount_y'].astype(float) \n",
    "    df['pctChg'] = df['pctChg_x'].astype(float)  + df['pctChg_y'].astype(float)\n",
    "    df['volume'] = df['volume']/10000000\n",
    "    df = df[[\"date\",\"volume\",\"amount\",\"pctChg\"]]\n",
    "    #df = df.set_index('date')\n",
    "    #print(df)\n",
    "    \n",
    "    bs.logout()\n",
    "    \n",
    "    return df\n",
    "    \n",
    "code_list = [\"sh.000001\",\"sz.399106\"]\n",
    "df = turnover(code_list)\n",
    "\n",
    "plt.plot(df['volume'])\n",
    "plt.title('Trading Volume')\n",
    "plt.xlabel('date')\n",
    "plt.ylabel('volume')\n",
    "plt.savefig(f\"两市成交量_{datetime.date.today()}.png\")\n",
    "#plt.show()\n"
   ]
  },
  {
   "cell_type": "code",
   "execution_count": null,
   "id": "f6457fd9",
   "metadata": {},
   "outputs": [],
   "source": []
  },
  {
   "cell_type": "code",
   "execution_count": null,
   "id": "9b98fb94",
   "metadata": {},
   "outputs": [],
   "source": []
  },
  {
   "cell_type": "code",
   "execution_count": null,
   "id": "28a2b7b4",
   "metadata": {},
   "outputs": [],
   "source": []
  }
 ],
 "metadata": {
  "kernelspec": {
   "display_name": "Python 3 (ipykernel)",
   "language": "python",
   "name": "python3"
  },
  "language_info": {
   "codemirror_mode": {
    "name": "ipython",
    "version": 3
   },
   "file_extension": ".py",
   "mimetype": "text/x-python",
   "name": "python",
   "nbconvert_exporter": "python",
   "pygments_lexer": "ipython3",
   "version": "3.9.12"
  }
 },
 "nbformat": 4,
 "nbformat_minor": 5
}
